{
  "nbformat": 4,
  "nbformat_minor": 0,
  "metadata": {
    "colab": {
      "provenance": [],
      "authorship_tag": "ABX9TyMXWiwwUS2C7M6nykbCFn2q",
      "include_colab_link": true
    },
    "kernelspec": {
      "name": "python3",
      "display_name": "Python 3"
    },
    "language_info": {
      "name": "python"
    }
  },
  "cells": [
    {
      "cell_type": "markdown",
      "metadata": {
        "id": "view-in-github",
        "colab_type": "text"
      },
      "source": [
        "<a href=\"https://colab.research.google.com/github/ShaikAsha1909/searching/blob/main/searchings.ipynb\" target=\"_parent\"><img src=\"https://colab.research.google.com/assets/colab-badge.svg\" alt=\"Open In Colab\"/></a>"
      ]
    },
    {
      "cell_type": "markdown",
      "source": [
        "**linear search**"
      ],
      "metadata": {
        "id": "wLq9v7hxNqBd"
      }
    },
    {
      "cell_type": "code",
      "execution_count": null,
      "metadata": {
        "colab": {
          "base_uri": "https://localhost:8080/"
        },
        "id": "ghuXTZzQNeM-",
        "outputId": "a3c08e08-dc01-44a0-bf07-f2dd71cf1df9"
      },
      "outputs": [
        {
          "output_type": "stream",
          "name": "stdout",
          "text": [
            "enter the size of array:5\n",
            "enter the elements of array:\n",
            "element 1:11\n",
            "element 2:2\n",
            "element 3:33\n",
            "element 4:4\n",
            "element 5:55\n",
            "enter the element to search:4\n",
            "\n",
            " element 4 found at 3\n"
          ]
        }
      ],
      "source": [
        "def linear_search(arr,key):\n",
        "    for i in range(len(arr)):\n",
        "        if arr[i]==key:\n",
        "            return i\n",
        "    return -1\n",
        "size= int(input(\"enter the size of array:\"))\n",
        "arr=[]\n",
        "print(\"enter the elements of array:\")\n",
        "for i in range(size):\n",
        "    num=int(input(f\"element {i+1}:\"))\n",
        "    arr.append(num)\n",
        "key = int(input(\"enter the element to search:\"))\n",
        "result=linear_search(arr,key)\n",
        "if result != -1:\n",
        "    print(f\"\\n element {key} found at {result}\")\n",
        "else:\n",
        "    print(f\"\\n element {key} not found at {reult}\")\n"
      ]
    },
    {
      "cell_type": "markdown",
      "source": [
        "**binary search**"
      ],
      "metadata": {
        "id": "LNgUSqd6N-yW"
      }
    },
    {
      "cell_type": "code",
      "source": [
        "def binary_search(arr, key):\n",
        "  low=0\n",
        "  high= len(arr)-1\n",
        "  while low<=high:\n",
        "    mid=(low+high)//2\n",
        "    if arr[mid]<key:\n",
        "        return mid\n",
        "    elif arr[mid]<key:\n",
        "        low=mid+1\n",
        "    else:\n",
        "        high=mid-1\n",
        "  return -1\n",
        "size= int(input(\"enter the size of array:\"))\n",
        "arr=[]\n",
        "print(\"enter the elements of array:\")\n",
        "for i in range(size):\n",
        "    num=int(input(f\"element {i+1}:\"))\n",
        "    arr.append(num)\n",
        "key = int(input(\"enter the element to search:\"))\n",
        "result=linear_search(arr,key)\n",
        "if result != -1:\n",
        "    print(f\"\\n element {key} found at {result}\")\n",
        "else:\n",
        "    print(f\"\\n element {key} not found at {reult}\")\n"
      ],
      "metadata": {
        "colab": {
          "base_uri": "https://localhost:8080/"
        },
        "id": "9D2BrXV8ODMu",
        "outputId": "ee2071a5-57b1-49ff-a012-213acf22cc3a"
      },
      "execution_count": null,
      "outputs": [
        {
          "output_type": "stream",
          "name": "stdout",
          "text": [
            "enter the size of array:5\n",
            "enter the elements of array:\n",
            "element 1:11\n",
            "element 2:22\n",
            "element 3:33\n",
            "element 4:44\n",
            "element 5:55\n",
            "enter the element to search:33\n",
            "\n",
            " element 33 found at 2\n"
          ]
        }
      ]
    },
    {
      "cell_type": "markdown",
      "source": [
        "**jump search**"
      ],
      "metadata": {
        "id": "kR-NI4LCOQGl"
      }
    },
    {
      "cell_type": "code",
      "source": [
        "import math\n",
        "def jump_search(arr,target):\n",
        "    if not arr:\n",
        "        return -1\n",
        "    n=len(arr)\n",
        "    step=int(math.sqrt(n))\n",
        "    prev=0\n",
        "    while prev <n and arr[prev]<target:\n",
        "        prev +=step\n",
        "    for i in range(max(0,prev-step),min(n,prev+1)):\n",
        "        if arr[i]==target:\n",
        "            return i\n",
        "    return -1\n",
        "arr=[1,3,5,7,9,11]\n",
        "target=7\n",
        "result= jump_search(arr,target)\n",
        "print(f\"Element {target} found at index:{result}\")\n"
      ],
      "metadata": {
        "colab": {
          "base_uri": "https://localhost:8080/"
        },
        "id": "RSlZ-PBpOS-t",
        "outputId": "fe18bb92-33d7-4eec-ac16-63dbd05501bb"
      },
      "execution_count": null,
      "outputs": [
        {
          "output_type": "stream",
          "name": "stdout",
          "text": [
            "Element 7 found at index:3\n"
          ]
        }
      ]
    },
    {
      "cell_type": "markdown",
      "source": [
        "**fibonacci search**"
      ],
      "metadata": {
        "id": "A5vhpGnqOdV9"
      }
    },
    {
      "cell_type": "code",
      "source": [
        "def fibsearch(arr, target):\n",
        "  if not arr:\n",
        "    return -1\n",
        "  n=len(arr)\n",
        "  fib2=0\n",
        "  fib1=1\n",
        "  fib=fib1+fib2\n",
        "  while fib<n:\n",
        "    fib2=fib1\n",
        "    fib1=fib\n",
        "    fib=fib1+fib2\n",
        "  offset=-1\n",
        "  while fib>1:\n",
        "    i=min(offset+fib2, n-1)\n",
        "    if arr[i]==target:\n",
        "      return i\n",
        "    elif arr[i]<target:\n",
        "      offset=i\n",
        "      fib=fib1\n",
        "      fib1=fib2fib2=fib-fib1\n",
        "    else:\n",
        "      fib=fib2\n",
        "      fib1=fib1-fib2\n",
        "      fib2=fib-fib1\n",
        "  if fib1 and arr[n-1]==target:\n",
        "    return n-1\n",
        "  return -1\n",
        "arr=[1, 2, 3, 4, 5, 6, 7, 8, 9, 10]\n",
        "target=5\n",
        "result=fibsearch(arr, target)\n",
        "print(f\"Element {target} found at index:{result}\")"
      ],
      "metadata": {
        "id": "Iq4ZdBOMOhzF",
        "outputId": "3f5fee07-d4b4-4b15-96db-1ad1b466eb1c",
        "colab": {
          "base_uri": "https://localhost:8080/"
        }
      },
      "execution_count": null,
      "outputs": [
        {
          "output_type": "stream",
          "name": "stdout",
          "text": [
            "Element 5 found at index:4\n"
          ]
        }
      ]
    }
  ]
}